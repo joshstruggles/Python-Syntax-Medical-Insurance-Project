{
 "cells": [
  {
   "cell_type": "markdown",
   "metadata": {
    "toc": true
   },
   "source": [
    "<h1>Table of Contents<span class=\"tocSkip\"></span></h1>\n",
    "<div class=\"toc\"><ul class=\"toc-item\"><li><span><a href=\"#Setting-up-Factors\" data-toc-modified-id=\"Setting-up-Factors-1\"><span class=\"toc-item-num\">1&nbsp;&nbsp;</span>Setting up Factors</a></span></li><li><span><a href=\"#Working-with-the-Formula\" data-toc-modified-id=\"Working-with-the-Formula-2\"><span class=\"toc-item-num\">2&nbsp;&nbsp;</span>Working with the Formula</a></span></li><li><span><a href=\"#Looking-at-Age-Factor\" data-toc-modified-id=\"Looking-at-Age-Factor-3\"><span class=\"toc-item-num\">3&nbsp;&nbsp;</span>Looking at Age Factor</a></span></li><li><span><a href=\"#Looking-at-BMI-Factor\" data-toc-modified-id=\"Looking-at-BMI-Factor-4\"><span class=\"toc-item-num\">4&nbsp;&nbsp;</span>Looking at BMI Factor</a></span></li><li><span><a href=\"#Looking-at-Male-vs.-Female-Factor\" data-toc-modified-id=\"Looking-at-Male-vs.-Female-Factor-5\"><span class=\"toc-item-num\">5&nbsp;&nbsp;</span>Looking at Male vs. Female Factor</a></span></li><li><span><a href=\"#Extra-Practice\" data-toc-modified-id=\"Extra-Practice-6\"><span class=\"toc-item-num\">6&nbsp;&nbsp;</span>Extra Practice</a></span></li></ul></div>"
   ]
  },
  {
   "cell_type": "markdown",
   "metadata": {},
   "source": [
    "# Python Syntax: Medical Insurance Project"
   ]
  },
  {
   "cell_type": "markdown",
   "metadata": {},
   "source": [
    "Suppose you are a medical professional curious about how certain factors contribute to medical insurance costs. Using a formula that estimates a person's yearly insurance costs, you will investigate how different factors such as age, sex, BMI, etc. affect the prediction."
   ]
  },
  {
   "cell_type": "markdown",
   "metadata": {},
   "source": [
    "## Setting up Factors"
   ]
  },
  {
   "cell_type": "markdown",
   "metadata": {},
   "source": [
    "1. Our first step is to create the variables for each factor we will consider when estimating medical insurance costs.\n",
    "\n",
    "   These are the variables we will need to create:\n",
    "   - `age`: age of the individual in years\n",
    "   - `sex`: 0 for female, 1 for male*\n",
    "   - `bmi`: individual's body mass index\n",
    "   - `num_of_children`: number of children the individual has\n",
    "   - `smoker`: 0 for a non-smoker, 1 for a smoker\n",
    "   \n",
    "   In the code block below, create the following variables for a **28**-year-old, **nonsmoking woman** who has **three children** and a **BMI** of **26.2**.\n",
    "   \n",
    "   **Note**: We are using this [medical insurance dataset](https://www.kaggle.com/mirichoi0218/insurance) as a guide, which unfortunately does not include data for non-binary individuals."
   ]
  },
  {
   "cell_type": "code",
   "execution_count": 1,
   "metadata": {},
   "outputs": [],
   "source": [
    "# create the initial variables below\n",
    "\n"
   ]
  },
  {
   "cell_type": "markdown",
   "metadata": {},
   "source": [
    "## Working with the Formula"
   ]
  },
  {
   "cell_type": "markdown",
   "metadata": {},
   "source": [
    "2. After the declaration of the variables, create a variable called `insurance_cost` that utilizes the following formula:\n",
    "\n",
    "   $$\n",
    "   \\begin{aligned}\n",
    "   insurance\\_cost = 250*age - 128*sex \\\\\n",
    "   + 370*bmi + 425*num\\_of\\_children \\\\\n",
    "   + 24000*smoker - 12500 \\\\\n",
    "   \\end{aligned}\n",
    "   $$"
   ]
  },
  {
   "cell_type": "code",
   "execution_count": 2,
   "metadata": {},
   "outputs": [],
   "source": [
    "# Add insurance estimate formula below\n",
    "\n"
   ]
  },
  {
   "cell_type": "markdown",
   "metadata": {},
   "source": [
    "3. Let's display this value in an informative way. Print out the following string in the kernel:\n",
    "\n",
    "   ```\n",
    "   This person's insurance cost is {insurance_cost} dollars.\n",
    "   ```\n",
    "   \n",
    "   You will need to use string concatenation, including the `str()` function to print out the `insurance_cost`."
   ]
  },
  {
   "cell_type": "code",
   "execution_count": null,
   "metadata": {},
   "outputs": [],
   "source": []
  },
  {
   "cell_type": "markdown",
   "metadata": {},
   "source": [
    "## Looking at Age Factor"
   ]
  },
  {
   "cell_type": "markdown",
   "metadata": {},
   "source": [
    "4. We have seen how our formula can estimate costs for one individual. Now let's play with some individual factors to see what role each one plays in our estimation!\n",
    "\n",
    "   Let's start with the `age` factor. Using a plus-equal operator, add 4 years to our `age` variable."
   ]
  },
  {
   "cell_type": "code",
   "execution_count": null,
   "metadata": {},
   "outputs": [],
   "source": []
  },
  {
   "cell_type": "markdown",
   "metadata": {},
   "source": [
    "5. Now that we have changed our `age` value, we want to recalculate our insurance cost. Declare a new variable called `new_insurance_cost` in the code block below.\n",
    "\n",
    "   Make sure you leave the `insurance_cost` variable the same as in Task 2. We will use it later in our program!"
   ]
  },
  {
   "cell_type": "code",
   "execution_count": null,
   "metadata": {},
   "outputs": [],
   "source": []
  },
  {
   "cell_type": "markdown",
   "metadata": {},
   "source": [
    "6. Next, we want to find the difference between our `new_insurance_cost` and `insurance_cost`. To do this, let's create a new variable called `change_in_insurance_cost` and set it equal to the difference between `new_insurance_cost` and `insurance_cost`.\n",
    "\n",
    "   Note: depending on the order that we subtract (eg., `new_insurance_cost - insurance_cost` vs. `insurance_cost - new_insurance_cost`), we'll get a positive or negative version of the same number. To make this difference interpretable, let's calculate `new_insurance cost - insurance_cost`. Then we can say, \"people who are four years older have estimated insurance costs that are `change_in_insurance_cost` dollars different, where the sign of `change_in_insurance_cost` tells us whether the cost is higher or lower\"."
   ]
  },
  {
   "cell_type": "code",
   "execution_count": null,
   "metadata": {},
   "outputs": [],
   "source": []
  },
  {
   "cell_type": "markdown",
   "metadata": {},
   "source": [
    "7. We want to display this information in an informative way similar to the output from instruction 3. In the code block below, print the following string, where `XXX` is replaced by the value of `change_in_insurance_cost`:\n",
    "\n",
    "   ```\n",
    "   The change in cost of insurance after increasing the age by 4 years is XXX dollars.\n",
    "   ```\n",
    "   \n",
    "   Doing this will tell us how 4 years in age affects medical insurance cost estimates assuming that all other variables remain the same.\n",
    "   \n",
    "   You will need to concatenate strings and use the `str()` method."
   ]
  },
  {
   "cell_type": "code",
   "execution_count": null,
   "metadata": {},
   "outputs": [],
   "source": []
  },
  {
   "cell_type": "markdown",
   "metadata": {},
   "source": [
    "## Looking at BMI Factor"
   ]
  },
  {
   "cell_type": "markdown",
   "metadata": {},
   "source": [
    "8. Now that you have looked at the age factor, let's move onto another one: BMI. First, we have to redefine our `age` variable to be its original value.\n",
    "\n",
    "   Set `age` to `28`. This will reset its value and allow us to focus on just the change in the BMI factor moving forward.\n",
    "   \n",
    "   On the next line, using the plus-equal operator, add `3.1` to our `bmi` variable."
   ]
  },
  {
   "cell_type": "code",
   "execution_count": null,
   "metadata": {},
   "outputs": [],
   "source": []
  },
  {
   "cell_type": "markdown",
   "metadata": {},
   "source": [
    "9. Now let's find out how a change in BMI affects insurance costs. Our next steps are pretty much the same as we have done before when looking at `age`.\n",
    "   1. Below the line where `bmi` was increased by `3.1`, rewrite the insurance cost formula and assign it to the variable name `new_insurance_cost`.\n",
    "   2. Save the difference between `new_insurance_cost` and `insurance_cost` in a variable called `change_in_insurance_cost`.\n",
    "   3. Display the following string in the output terminal, where `XXX` is replaced by the value of `change_in_insurance_cost`:\n",
    "   \n",
    "   ```py\n",
    "   The change in estimated insurance cost after increasing BMI by 3.1 is XXX dollars.\n",
    "   ```"
   ]
  },
  {
   "cell_type": "code",
   "execution_count": null,
   "metadata": {},
   "outputs": [],
   "source": []
  },
  {
   "cell_type": "markdown",
   "metadata": {},
   "source": [
    "## Looking at Male vs. Female Factor"
   ]
  },
  {
   "cell_type": "markdown",
   "metadata": {},
   "source": [
    "10. Let's look at the effect sex has on medical insurance costs. Before we make any additional changes, first reassign your `bmi` variable back to its original value of `26.2`.\n",
    "\n",
    "    On a new line of code in the code block below, reassign the value of `sex` to `1`. A reminder that `1` identifies male individuals and `0` identifies female individuals."
   ]
  },
  {
   "cell_type": "code",
   "execution_count": null,
   "metadata": {},
   "outputs": [],
   "source": []
  },
  {
   "cell_type": "markdown",
   "metadata": {},
   "source": [
    "11. Perform the steps below!\n",
    "    1. Rewrite the insurance cost formula and assign it to the variable name `new_insurance_cost`.\n",
    "    2. Save the difference between `new_insurance_cost` and `insurance_cost` in a variable called `change_in_insurance_cost`.\n",
    "    3. Display the following string, where `XXX` is replaced by the value of `change_in_insurance_cost`:\n",
    "    ```\n",
    "    The change in estimated cost for being male instead of female is XXX dollars.\n",
    "    ```"
   ]
  },
  {
   "cell_type": "code",
   "execution_count": null,
   "metadata": {},
   "outputs": [],
   "source": []
  },
  {
   "cell_type": "markdown",
   "metadata": {},
   "source": [
    "12. Notice that this time you got a negative value for `change_in_insurance_cost`. Let's think about what that means. We changed the sex variable from `0` (female) to `1` (male) and it decreased the estimated insurance costs.\n",
    "\n",
    "    This means that men tend to have lower medical costs on average than women. Reflect on the other findings you have dug up from this investigation so far."
   ]
  },
  {
   "cell_type": "code",
   "execution_count": null,
   "metadata": {},
   "outputs": [],
   "source": []
  },
  {
   "cell_type": "markdown",
   "metadata": {},
   "source": [
    "## Extra Practice"
   ]
  },
  {
   "cell_type": "markdown",
   "metadata": {},
   "source": [
    "13. Great job on the project!!!\n",
    "\n",
    "    So far we have looked at 3 of the 5 factors in the insurance costs formula. The two remaining are `smoker` and `num_of_children`. If you want to keep challenging yourself, spend some time investigating these factors!\n",
    "    1. Rewrite the insurance cost formula and assign it to the variable name `new_insurance_cost`.\n",
    "    2. Save the difference between `new_insurance_cost` in a variable called `change_in_insurance_cost`.\n",
    "    3. Display the information below!"
   ]
  },
  {
   "cell_type": "code",
   "execution_count": null,
   "metadata": {},
   "outputs": [],
   "source": []
  },
  {
   "cell_type": "code",
   "execution_count": null,
   "metadata": {},
   "outputs": [],
   "source": []
  }
 ],
 "metadata": {
  "kernelspec": {
   "display_name": "Python 3",
   "language": "python",
   "name": "python3"
  },
  "language_info": {
   "codemirror_mode": {
    "name": "ipython",
    "version": 3
   },
   "file_extension": ".py",
   "mimetype": "text/x-python",
   "name": "python",
   "nbconvert_exporter": "python",
   "pygments_lexer": "ipython3",
   "version": "3.8.5"
  },
  "toc": {
   "base_numbering": 1,
   "nav_menu": {},
   "number_sections": true,
   "sideBar": true,
   "skip_h1_title": true,
   "title_cell": "Table of Contents",
   "title_sidebar": "Contents",
   "toc_cell": true,
   "toc_position": {},
   "toc_section_display": true,
   "toc_window_display": true
  }
 },
 "nbformat": 4,
 "nbformat_minor": 5
}
